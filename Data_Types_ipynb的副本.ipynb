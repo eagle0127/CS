{
  "nbformat": 4,
  "nbformat_minor": 0,
  "metadata": {
    "colab": {
      "provenance": []
    },
    "kernelspec": {
      "name": "python3",
      "display_name": "Python 3"
    },
    "language_info": {
      "name": "python"
    }
  },
  "cells": [
    {
      "cell_type": "markdown",
      "source": [
        "\n",
        "### **Data Types Introduction**\n",
        "\n",
        "- **What are Data Types?**\n",
        "    - In computer science, a data type is a classification that specifies which type of value a variable can hold. Think of it as a label for the kind of data (e.g., numbers, texts, true/false values) we're dealing with.\n",
        "    - For instance, if we label something as a 'text' type, it means the variable will hold textual information like names, addresses, etc.\n",
        "\n",
        "#### **Why Do We Need Different Data Types?**\n",
        "1. **Efficiency:** Different data types use different amounts of memory. By choosing the right data type, we ensure our programs run efficiently.\n",
        "2. **Precision:** Some tasks require precision. For instance, financial calculations might need decimal values instead of whole numbers.\n",
        "3. **Clarity:** Using the right data type makes the code more readable and understandable.\n",
        "4. **Error Prevention:** Certain operations are only valid for specific data types. Having the right type can prevent errors. For example, you wouldn't want to accidentally add someone's name to their age.\n",
        "\n",
        "---\n",
        "\n",
        "### **Integers and Floats**\n",
        "\n",
        "#### **Definition and Examples of Integers and Floats**\n",
        "- **Integers:**\n",
        "    - These are whole numbers that can be positive, negative, or zero. They do not have decimal points.\n",
        "    - Examples: -3, -2, -1, 0, 1, 2, 3, ...\n",
        "- **Floats:**\n",
        "    - Also known as floating-point numbers, these are numbers that have a decimal point.\n",
        "    - They can represent real numbers (both rational and irrational numbers).\n",
        "    - Examples: -3.5, 0.0, 2.71, 3.14, ...\n",
        "\n",
        "#### **The Difference Between the Two**\n",
        "1. **Representation:** Integers are whole numbers without a decimal point, while floats have a decimal point.\n",
        "2. **Memory:** Floats typically require more memory than integers due to the precision they carry.\n",
        "3. **Operations:** Some operations might yield different results. For instance, dividing two integers might truncate the result, whereas dividing two floats will retain the decimal portion.\n",
        "\n",
        "#### **Practice: Create Variables of Integer and Float Types and Perform Basic Arithmetic Operations**\n",
        "1. **Creating Variables:**\n",
        "```python\n",
        "int_variable = 5\n",
        "float_variable = 5.5\n",
        "```\n",
        "2. **Arithmetic Operations:**\n",
        "    - **Addition:** `int_variable + 3` will result in `8`, but `float_variable + 3` will result in `8.5`.\n",
        "    - **Division:** `int_variable / 2` might differ in some languages in its result compared to `float_variable / 2`. In Python 3, both will return a float, but in some languages, integer division truncates the result.\n",
        "    - **Multiplication:** `int_variable * 2` will result in `10`, and `float_variable * 2` will result in `11.0`.\n",
        "\n",
        "3. **Experimentation:** Create your own integer and float variables and experiment with various arithmetic operations to observe the outcomes.\n",
        "\n",
        "---\n"
      ],
      "metadata": {
        "id": "LBu00G47APLR"
      }
    },
    {
      "cell_type": "code",
      "source": [
        "#Experiment with integers and floats in this cell\n",
        "int_variable = 5\n",
        "float_variable = 5.5\n",
        "\n",
        "int_variable_add = int_variable +3\n",
        "float_variable_add = float_variable +3\n",
        "\n",
        "int_variable_div = int_variable_add /2\n",
        "float_variable_div = float_variable_add /2\n",
        "\n",
        "int_variable_mul = int_variable_div * 2\n",
        "float_variable_mul = float_variable_div * 2\n",
        "\n",
        "print(\"int_variable\",int_variable)\n",
        "print(\"float_variable\", float_variable)\n",
        "\n",
        "print(\"int_variable_add\", int_variable_add)\n",
        "print(\"float_variable_add\", float_variable_add)\n",
        "\n",
        "print(\"int_variable_div\", int_variable_div)\n",
        "print(\"float_variable_div\", float_variable_div)\n",
        "\n",
        "print(\"int_variable_mul\", int_variable_mul)\n",
        "print(\"float_variable_mul\", float_variable_mul)\n"
      ],
      "metadata": {
        "id": "LCcqz0c-EMxq",
        "colab": {
          "base_uri": "https://localhost:8080/"
        },
        "outputId": "9304d32a-6dd8-4519-9cd6-7236cd11d52f"
      },
      "execution_count": null,
      "outputs": [
        {
          "output_type": "stream",
          "name": "stdout",
          "text": [
            "int_variable 5\n",
            "float_variable 5.5\n",
            "int_variable_add 8\n",
            "float_variable_add 8.5\n",
            "int_variable_div 4.0\n",
            "float_variable_div 4.25\n",
            "int_variable_mul 8.0\n",
            "float_variable_mul 8.5\n"
          ]
        }
      ]
    },
    {
      "cell_type": "markdown",
      "source": [
        "**1. Coffee Shop Calculator**\n",
        "   \n",
        "**Objective:** Calculate the total cost of items ordered at a coffee shop.\n",
        "\n",
        "- **Instructions:**\n",
        "   - Imagine you're visiting your favorite coffee shop.\n",
        "   - Use the `input()` function to ask the user to specify the number of espressos, lattes, and muffins they'd like to \"buy\". Convert these to integer values.\n",
        "   - Similarly, take user input for the prices of each item and convert these to float values.\n",
        "   - Write a program to calculate and display the total cost.\n",
        "\n",
        "---"
      ],
      "metadata": {
        "id": "bBnOPo9OEAEW"
      }
    },
    {
      "cell_type": "code",
      "source": [
        "import string\n",
        "#Your code for exercise 1 in here\n",
        "\n",
        "espresso_price = 100\n",
        "latte_price = 145\n",
        "muffin_price = 65\n",
        "\n",
        "print(\"How many cup of espresso would you like?\")\n",
        "num_espresso = input()\n",
        "num_espresso = float(num_espresso)\n",
        "print(\"How many cup of latte would you like?\")\n",
        "num_latte = input()\n",
        "num_latte = float(num_latte)\n",
        "print(\"How many muffin would you like?\")\n",
        "num_muffin = input()\n",
        "num_muffin = float(num_muffin)\n",
        "\n",
        "print(\"Your total cost is: \", num_espresso * espresso_price + num_latte * latte_price + num_muffin * muffin_price)"
      ],
      "metadata": {
        "id": "ymdlxypHEeHA",
        "colab": {
          "base_uri": "https://localhost:8080/"
        },
        "outputId": "a543f74b-ff73-4a23-8820-2fec09198bf5"
      },
      "execution_count": 2,
      "outputs": [
        {
          "output_type": "stream",
          "name": "stdout",
          "text": [
            "How many cup of espresso would you like?\n",
            "2\n",
            "How many cup of latte would you like?\n",
            "3\n",
            "How many muffin would you like?\n",
            "2\n",
            "Your total cost is:  765.0\n"
          ]
        }
      ]
    },
    {
      "cell_type": "code",
      "source": [
        "a = '2'\n",
        "b = 15\n",
        "print(\"a * 10 = \", a * 10)\n",
        "print(\"b * 10 = \", b * 10)"
      ],
      "metadata": {
        "id": "QD2ajyrxcYbE",
        "outputId": "1d11af63-acc2-402b-be62-a3aa66d04b42",
        "colab": {
          "base_uri": "https://localhost:8080/"
        }
      },
      "execution_count": 1,
      "outputs": [
        {
          "output_type": "stream",
          "name": "stdout",
          "text": [
            "a * 10 =  2222222222\n",
            "b * 10 =  150\n"
          ]
        }
      ]
    },
    {
      "cell_type": "markdown",
      "source": [
        "**2. Rocket Launch Countdown**\n",
        "   \n",
        "**Objective:** Simulate a rocket launch countdown.\n",
        "\n",
        "- **Instructions:**\n",
        "   - Use the `input()` function to ask the user for a starting countdown number and convert it to an integer.\n",
        "   - Write a loop that subtracts 1 from the variable and prints the current countdown number each iteration.\n",
        "   - Add a delay (using time.sleep in Python) of 0.5 seconds between each countdown number.\n",
        "\n",
        "---\n"
      ],
      "metadata": {
        "id": "5cn16bvxEiz5"
      }
    },
    {
      "cell_type": "code",
      "source": [
        "#Your code for exercise 2 in here\n",
        "import time\n",
        "\n",
        "print(\"Please enter a countdown number: \")\n",
        "x = input()\n",
        "x = int(x)\n",
        "\n",
        "for i in range(x, -1, -1):\n",
        "    print(i)\n",
        "    time.sleep(0.5)\n",
        "\n"
      ],
      "metadata": {
        "id": "ys1WJFJWEncP",
        "colab": {
          "base_uri": "https://localhost:8080/"
        },
        "outputId": "a0fab6b8-5a4b-4c7e-a9b9-5421891c8220"
      },
      "execution_count": null,
      "outputs": [
        {
          "output_type": "stream",
          "name": "stdout",
          "text": [
            "Please enter a countdown number: \n",
            "10\n",
            "10\n",
            "9\n",
            "8\n",
            "7\n",
            "6\n",
            "5\n",
            "4\n",
            "3\n",
            "2\n",
            "1\n",
            "0\n"
          ]
        }
      ]
    },
    {
      "cell_type": "markdown",
      "source": [
        "**3. Your Weight on Other Planets**\n",
        "   \n",
        "**Objective:** Find out how much you'd weigh on different planets based on their gravity.\n",
        "\n",
        "- **Instructions:**\n",
        "   - Use the `input()` function to ask the user for their weight on Earth and convert this to a float.\n",
        "   - Create float variables for the gravity factor of different planets (e.g., Mars is about 0.38 of Earth's gravity).\n",
        "   - Calculate and display how much they'd weigh on each of these planets.\n",
        "\n",
        "---"
      ],
      "metadata": {
        "id": "_4CLsHIKEsGa"
      }
    },
    {
      "cell_type": "code",
      "source": [
        "#Exercise 3\n",
        "print(\"Please type down your weight: \")\n",
        "x = input()\n",
        "x = float(x)\n",
        "\n",
        "Mars_gravity = 0.38\n",
        "print(\"Your weight on Mars is: \", x * Mars_gravity)"
      ],
      "metadata": {
        "id": "2CGVY3iiEvR9",
        "colab": {
          "base_uri": "https://localhost:8080/"
        },
        "outputId": "f982fb74-1c84-49ed-bd41-c49b26db2464"
      },
      "execution_count": null,
      "outputs": [
        {
          "output_type": "stream",
          "name": "stdout",
          "text": [
            "Please enter your weight: \n",
            "50\n",
            "Your weight on Mars is:  19.0\n"
          ]
        }
      ]
    },
    {
      "cell_type": "markdown",
      "source": [
        "**4. Pizza Party Calculator**\n",
        "   \n",
        "**Objective:** Calculate the cost per slice of pizza.\n",
        "\n",
        "- **Instructions:**\n",
        "   - Use the `input()` function to ask the user how many pizzas they bought and the total cost. Convert these values appropriately (integer for number of pizzas, float for cost).\n",
        "   - Ask the user to specify how many slices each pizza has and convert this to an integer.\n",
        "   - Calculate and display the cost per slice.\n",
        "\n",
        "---"
      ],
      "metadata": {
        "id": "iSGrrgiNExxp"
      }
    },
    {
      "cell_type": "code",
      "source": [
        "#Exercise 4\n",
        "print(\"How many pizza would you like?\")\n",
        "num_pizza = input()\n",
        "num_pizza = int(num_pizza)\n",
        "print(\"How much is the total cost?\")\n",
        "total_cost = input()\n",
        "total_cost = float(total_cost)\n",
        "print(\"How many slices for each pizza?\")\n",
        "num_slices = input()\n",
        "num_slices = int(num_slices)\n",
        "\n",
        "print(\"The cost per slice is: \", total_cost / (num_pizza * num_slices))"
      ],
      "metadata": {
        "id": "QFiXisVwE0ZR",
        "colab": {
          "base_uri": "https://localhost:8080/"
        },
        "outputId": "d41080a1-560b-4cb0-fa36-41017128569b"
      },
      "execution_count": null,
      "outputs": [
        {
          "output_type": "stream",
          "name": "stdout",
          "text": [
            "How many pizza would you like?\n",
            "5\n",
            "How much is the total cost?\n",
            "800\n",
            "How many slices for each pizza?\n",
            "4\n",
            "The cost per slice is:  40.0\n"
          ]
        }
      ]
    },
    {
      "cell_type": "markdown",
      "source": [
        "\n",
        "**5. Travel Budget Calculator**\n",
        "   \n",
        "**Objective:** Calculate the total budget required for a trip.\n",
        "\n",
        "- **Instructions:**\n",
        "   - Imagine you're planning a trip to your dream destination.\n",
        "   - Use the `input()` function to ask the user for the number of days they plan to stay and convert this to an integer.\n",
        "   - Ask the user to specify the estimated daily expenses for food, accommodation, and sightseeing. Convert these to float values.\n",
        "   - Write a program to calculate and display the total estimated cost for the trip.\n",
        "\n",
        "---"
      ],
      "metadata": {
        "id": "bgTECsKHE3CF"
      }
    },
    {
      "cell_type": "code",
      "source": [
        "#Exercise 5\n",
        "print(\"How many days are you going to stay?\")\n",
        "num_day = input()\n",
        "num_day = int(num_day)\n",
        "\n",
        "print(\"How much is your estimated daily expenses?\")\n",
        "estimated_cost = input()\n",
        "estimated_cost = float(estimated_cost)\n",
        "\n",
        "print(\"Your total estimated cost for the trip is: \", num_day * estimated_cost)"
      ],
      "metadata": {
        "id": "sT4Q-aYuE4jM",
        "colab": {
          "base_uri": "https://localhost:8080/"
        },
        "outputId": "2ce3d28c-a89c-4c2d-fb49-365c71d80549"
      },
      "execution_count": null,
      "outputs": [
        {
          "output_type": "stream",
          "name": "stdout",
          "text": [
            "How many days are you going to stay?\n",
            "10\n",
            "How much is your estimated daily expenses?\n",
            "400\n",
            "Your total estimated cost for the trip is:  4000.0\n"
          ]
        }
      ]
    },
    {
      "cell_type": "code",
      "source": [],
      "metadata": {
        "id": "8akGtJFmhmuV"
      },
      "execution_count": null,
      "outputs": []
    }
  ]
}